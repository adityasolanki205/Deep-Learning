{
 "cells": [
  {
   "cell_type": "markdown",
   "metadata": {},
   "source": [
    "# Intro to Machine Learning Nanodegree\n",
    "\n",
    "## Linear Regression\n",
    "\n",
    "This Sub folder has basics of Linear Regression where Batch Gradiant is mathamatically Calculated\n",
    "\n",
    "1. Supporting files:\n",
    "\n",
    "    - batch_graddesv.py\n",
    "\n",
    "    - data.csv\n",
    "\n",
    "    - solution.py\n",
    "    \n",
    "    - batch_graddesv_my_solution.ipynb\n"
   ]
  }
 ],
 "metadata": {
  "kernelspec": {
   "display_name": "Python 3",
   "language": "python",
   "name": "python3"
  },
  "language_info": {
   "codemirror_mode": {
    "name": "ipython",
    "version": 3
   },
   "file_extension": ".py",
   "mimetype": "text/x-python",
   "name": "python",
   "nbconvert_exporter": "python",
   "pygments_lexer": "ipython3",
   "version": "3.7.4"
  }
 },
 "nbformat": 4,
 "nbformat_minor": 2
}
